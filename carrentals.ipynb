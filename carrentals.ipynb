{
 "cells": [
  {
   "cell_type": "markdown",
   "metadata": {},
   "source": [
    "# Predicting Car prices using simple K Nearest Neighbor model"
   ]
  },
  {
   "cell_type": "code",
   "execution_count": 1,
   "metadata": {},
   "outputs": [],
   "source": [
    "import pandas as pd\n",
    "import numpy as np"
   ]
  },
  {
   "cell_type": "code",
   "execution_count": 2,
   "metadata": {},
   "outputs": [],
   "source": [
    "columns=['symboling', 'normalized-losses', 'make', 'fuel-type', 'aspiration', 'num-of-doors', 'body-style', \n",
    "        'drive-wheels', 'engine-location', 'wheel-base', 'length', 'width', 'height', 'curb-weight', 'engine-type', \n",
    "        'num-of-cylinders', 'engine-size', 'fuel-system', 'bore', 'stroke', 'compression-rate', 'horsepower', 'peak-rpm', 'city-mpg', 'highway-mpg', 'price']"
   ]
  },
  {
   "cell_type": "code",
   "execution_count": 3,
   "metadata": {},
   "outputs": [],
   "source": [
    "cars=pd.read_csv('imports-85.data',names=columns)"
   ]
  },
  {
   "cell_type": "markdown",
   "metadata": {},
   "source": [
    "## Cleaning data and pre-processing\n",
    "Finding the integer colums that we would be able to work with for our predictions"
   ]
  },
  {
   "cell_type": "code",
   "execution_count": 4,
   "metadata": {},
   "outputs": [
    {
     "name": "stdout",
     "output_type": "stream",
     "text": [
      "<class 'pandas.core.frame.DataFrame'>\n",
      "RangeIndex: 205 entries, 0 to 204\n",
      "Data columns (total 26 columns):\n",
      "symboling            205 non-null int64\n",
      "normalized-losses    205 non-null object\n",
      "make                 205 non-null object\n",
      "fuel-type            205 non-null object\n",
      "aspiration           205 non-null object\n",
      "num-of-doors         205 non-null object\n",
      "body-style           205 non-null object\n",
      "drive-wheels         205 non-null object\n",
      "engine-location      205 non-null object\n",
      "wheel-base           205 non-null float64\n",
      "length               205 non-null float64\n",
      "width                205 non-null float64\n",
      "height               205 non-null float64\n",
      "curb-weight          205 non-null int64\n",
      "engine-type          205 non-null object\n",
      "num-of-cylinders     205 non-null object\n",
      "engine-size          205 non-null int64\n",
      "fuel-system          205 non-null object\n",
      "bore                 205 non-null object\n",
      "stroke               205 non-null object\n",
      "compression-rate     205 non-null float64\n",
      "horsepower           205 non-null object\n",
      "peak-rpm             205 non-null object\n",
      "city-mpg             205 non-null int64\n",
      "highway-mpg          205 non-null int64\n",
      "price                205 non-null object\n",
      "dtypes: float64(5), int64(5), object(16)\n",
      "memory usage: 41.7+ KB\n"
     ]
    }
   ],
   "source": [
    "cars.info()"
   ]
  },
  {
   "cell_type": "code",
   "execution_count": 5,
   "metadata": {},
   "outputs": [
    {
     "data": {
      "text/html": [
       "<div>\n",
       "<style scoped>\n",
       "    .dataframe tbody tr th:only-of-type {\n",
       "        vertical-align: middle;\n",
       "    }\n",
       "\n",
       "    .dataframe tbody tr th {\n",
       "        vertical-align: top;\n",
       "    }\n",
       "\n",
       "    .dataframe thead th {\n",
       "        text-align: right;\n",
       "    }\n",
       "</style>\n",
       "<table border=\"1\" class=\"dataframe\">\n",
       "  <thead>\n",
       "    <tr style=\"text-align: right;\">\n",
       "      <th></th>\n",
       "      <th>symboling</th>\n",
       "      <th>normalized-losses</th>\n",
       "      <th>make</th>\n",
       "      <th>fuel-type</th>\n",
       "      <th>aspiration</th>\n",
       "      <th>num-of-doors</th>\n",
       "      <th>body-style</th>\n",
       "      <th>drive-wheels</th>\n",
       "      <th>engine-location</th>\n",
       "      <th>wheel-base</th>\n",
       "      <th>...</th>\n",
       "      <th>engine-size</th>\n",
       "      <th>fuel-system</th>\n",
       "      <th>bore</th>\n",
       "      <th>stroke</th>\n",
       "      <th>compression-rate</th>\n",
       "      <th>horsepower</th>\n",
       "      <th>peak-rpm</th>\n",
       "      <th>city-mpg</th>\n",
       "      <th>highway-mpg</th>\n",
       "      <th>price</th>\n",
       "    </tr>\n",
       "  </thead>\n",
       "  <tbody>\n",
       "    <tr>\n",
       "      <th>0</th>\n",
       "      <td>3</td>\n",
       "      <td>?</td>\n",
       "      <td>alfa-romero</td>\n",
       "      <td>gas</td>\n",
       "      <td>std</td>\n",
       "      <td>two</td>\n",
       "      <td>convertible</td>\n",
       "      <td>rwd</td>\n",
       "      <td>front</td>\n",
       "      <td>88.6</td>\n",
       "      <td>...</td>\n",
       "      <td>130</td>\n",
       "      <td>mpfi</td>\n",
       "      <td>3.47</td>\n",
       "      <td>2.68</td>\n",
       "      <td>9.0</td>\n",
       "      <td>111</td>\n",
       "      <td>5000</td>\n",
       "      <td>21</td>\n",
       "      <td>27</td>\n",
       "      <td>13495</td>\n",
       "    </tr>\n",
       "    <tr>\n",
       "      <th>1</th>\n",
       "      <td>3</td>\n",
       "      <td>?</td>\n",
       "      <td>alfa-romero</td>\n",
       "      <td>gas</td>\n",
       "      <td>std</td>\n",
       "      <td>two</td>\n",
       "      <td>convertible</td>\n",
       "      <td>rwd</td>\n",
       "      <td>front</td>\n",
       "      <td>88.6</td>\n",
       "      <td>...</td>\n",
       "      <td>130</td>\n",
       "      <td>mpfi</td>\n",
       "      <td>3.47</td>\n",
       "      <td>2.68</td>\n",
       "      <td>9.0</td>\n",
       "      <td>111</td>\n",
       "      <td>5000</td>\n",
       "      <td>21</td>\n",
       "      <td>27</td>\n",
       "      <td>16500</td>\n",
       "    </tr>\n",
       "    <tr>\n",
       "      <th>2</th>\n",
       "      <td>1</td>\n",
       "      <td>?</td>\n",
       "      <td>alfa-romero</td>\n",
       "      <td>gas</td>\n",
       "      <td>std</td>\n",
       "      <td>two</td>\n",
       "      <td>hatchback</td>\n",
       "      <td>rwd</td>\n",
       "      <td>front</td>\n",
       "      <td>94.5</td>\n",
       "      <td>...</td>\n",
       "      <td>152</td>\n",
       "      <td>mpfi</td>\n",
       "      <td>2.68</td>\n",
       "      <td>3.47</td>\n",
       "      <td>9.0</td>\n",
       "      <td>154</td>\n",
       "      <td>5000</td>\n",
       "      <td>19</td>\n",
       "      <td>26</td>\n",
       "      <td>16500</td>\n",
       "    </tr>\n",
       "    <tr>\n",
       "      <th>3</th>\n",
       "      <td>2</td>\n",
       "      <td>164</td>\n",
       "      <td>audi</td>\n",
       "      <td>gas</td>\n",
       "      <td>std</td>\n",
       "      <td>four</td>\n",
       "      <td>sedan</td>\n",
       "      <td>fwd</td>\n",
       "      <td>front</td>\n",
       "      <td>99.8</td>\n",
       "      <td>...</td>\n",
       "      <td>109</td>\n",
       "      <td>mpfi</td>\n",
       "      <td>3.19</td>\n",
       "      <td>3.40</td>\n",
       "      <td>10.0</td>\n",
       "      <td>102</td>\n",
       "      <td>5500</td>\n",
       "      <td>24</td>\n",
       "      <td>30</td>\n",
       "      <td>13950</td>\n",
       "    </tr>\n",
       "    <tr>\n",
       "      <th>4</th>\n",
       "      <td>2</td>\n",
       "      <td>164</td>\n",
       "      <td>audi</td>\n",
       "      <td>gas</td>\n",
       "      <td>std</td>\n",
       "      <td>four</td>\n",
       "      <td>sedan</td>\n",
       "      <td>4wd</td>\n",
       "      <td>front</td>\n",
       "      <td>99.4</td>\n",
       "      <td>...</td>\n",
       "      <td>136</td>\n",
       "      <td>mpfi</td>\n",
       "      <td>3.19</td>\n",
       "      <td>3.40</td>\n",
       "      <td>8.0</td>\n",
       "      <td>115</td>\n",
       "      <td>5500</td>\n",
       "      <td>18</td>\n",
       "      <td>22</td>\n",
       "      <td>17450</td>\n",
       "    </tr>\n",
       "  </tbody>\n",
       "</table>\n",
       "<p>5 rows × 26 columns</p>\n",
       "</div>"
      ],
      "text/plain": [
       "   symboling normalized-losses         make fuel-type aspiration num-of-doors  \\\n",
       "0          3                 ?  alfa-romero       gas        std          two   \n",
       "1          3                 ?  alfa-romero       gas        std          two   \n",
       "2          1                 ?  alfa-romero       gas        std          two   \n",
       "3          2               164         audi       gas        std         four   \n",
       "4          2               164         audi       gas        std         four   \n",
       "\n",
       "    body-style drive-wheels engine-location  wheel-base  ...  engine-size  \\\n",
       "0  convertible          rwd           front        88.6  ...          130   \n",
       "1  convertible          rwd           front        88.6  ...          130   \n",
       "2    hatchback          rwd           front        94.5  ...          152   \n",
       "3        sedan          fwd           front        99.8  ...          109   \n",
       "4        sedan          4wd           front        99.4  ...          136   \n",
       "\n",
       "   fuel-system  bore  stroke compression-rate horsepower  peak-rpm city-mpg  \\\n",
       "0         mpfi  3.47    2.68              9.0        111      5000       21   \n",
       "1         mpfi  3.47    2.68              9.0        111      5000       21   \n",
       "2         mpfi  2.68    3.47              9.0        154      5000       19   \n",
       "3         mpfi  3.19    3.40             10.0        102      5500       24   \n",
       "4         mpfi  3.19    3.40              8.0        115      5500       18   \n",
       "\n",
       "  highway-mpg  price  \n",
       "0          27  13495  \n",
       "1          27  16500  \n",
       "2          26  16500  \n",
       "3          30  13950  \n",
       "4          22  17450  \n",
       "\n",
       "[5 rows x 26 columns]"
      ]
     },
     "execution_count": 5,
     "metadata": {},
     "output_type": "execute_result"
    }
   ],
   "source": [
    "cars.head()"
   ]
  },
  {
   "cell_type": "markdown",
   "metadata": {},
   "source": [
    "Defining a separate DF to only keep numeric columns, replace the ? with nan and convert all the data to numbers"
   ]
  },
  {
   "cell_type": "code",
   "execution_count": 6,
   "metadata": {},
   "outputs": [
    {
     "data": {
      "text/html": [
       "<div>\n",
       "<style scoped>\n",
       "    .dataframe tbody tr th:only-of-type {\n",
       "        vertical-align: middle;\n",
       "    }\n",
       "\n",
       "    .dataframe tbody tr th {\n",
       "        vertical-align: top;\n",
       "    }\n",
       "\n",
       "    .dataframe thead th {\n",
       "        text-align: right;\n",
       "    }\n",
       "</style>\n",
       "<table border=\"1\" class=\"dataframe\">\n",
       "  <thead>\n",
       "    <tr style=\"text-align: right;\">\n",
       "      <th></th>\n",
       "      <th>normalized-losses</th>\n",
       "      <th>wheel-base</th>\n",
       "      <th>length</th>\n",
       "      <th>width</th>\n",
       "      <th>height</th>\n",
       "      <th>curb-weight</th>\n",
       "      <th>bore</th>\n",
       "      <th>stroke</th>\n",
       "      <th>compression-rate</th>\n",
       "      <th>horsepower</th>\n",
       "      <th>peak-rpm</th>\n",
       "      <th>city-mpg</th>\n",
       "      <th>highway-mpg</th>\n",
       "      <th>price</th>\n",
       "    </tr>\n",
       "  </thead>\n",
       "  <tbody>\n",
       "    <tr>\n",
       "      <th>0</th>\n",
       "      <td>?</td>\n",
       "      <td>88.6</td>\n",
       "      <td>168.8</td>\n",
       "      <td>64.1</td>\n",
       "      <td>48.8</td>\n",
       "      <td>2548</td>\n",
       "      <td>3.47</td>\n",
       "      <td>2.68</td>\n",
       "      <td>9.0</td>\n",
       "      <td>111</td>\n",
       "      <td>5000</td>\n",
       "      <td>21</td>\n",
       "      <td>27</td>\n",
       "      <td>13495</td>\n",
       "    </tr>\n",
       "    <tr>\n",
       "      <th>1</th>\n",
       "      <td>?</td>\n",
       "      <td>88.6</td>\n",
       "      <td>168.8</td>\n",
       "      <td>64.1</td>\n",
       "      <td>48.8</td>\n",
       "      <td>2548</td>\n",
       "      <td>3.47</td>\n",
       "      <td>2.68</td>\n",
       "      <td>9.0</td>\n",
       "      <td>111</td>\n",
       "      <td>5000</td>\n",
       "      <td>21</td>\n",
       "      <td>27</td>\n",
       "      <td>16500</td>\n",
       "    </tr>\n",
       "    <tr>\n",
       "      <th>2</th>\n",
       "      <td>?</td>\n",
       "      <td>94.5</td>\n",
       "      <td>171.2</td>\n",
       "      <td>65.5</td>\n",
       "      <td>52.4</td>\n",
       "      <td>2823</td>\n",
       "      <td>2.68</td>\n",
       "      <td>3.47</td>\n",
       "      <td>9.0</td>\n",
       "      <td>154</td>\n",
       "      <td>5000</td>\n",
       "      <td>19</td>\n",
       "      <td>26</td>\n",
       "      <td>16500</td>\n",
       "    </tr>\n",
       "    <tr>\n",
       "      <th>3</th>\n",
       "      <td>164</td>\n",
       "      <td>99.8</td>\n",
       "      <td>176.6</td>\n",
       "      <td>66.2</td>\n",
       "      <td>54.3</td>\n",
       "      <td>2337</td>\n",
       "      <td>3.19</td>\n",
       "      <td>3.40</td>\n",
       "      <td>10.0</td>\n",
       "      <td>102</td>\n",
       "      <td>5500</td>\n",
       "      <td>24</td>\n",
       "      <td>30</td>\n",
       "      <td>13950</td>\n",
       "    </tr>\n",
       "    <tr>\n",
       "      <th>4</th>\n",
       "      <td>164</td>\n",
       "      <td>99.4</td>\n",
       "      <td>176.6</td>\n",
       "      <td>66.4</td>\n",
       "      <td>54.3</td>\n",
       "      <td>2824</td>\n",
       "      <td>3.19</td>\n",
       "      <td>3.40</td>\n",
       "      <td>8.0</td>\n",
       "      <td>115</td>\n",
       "      <td>5500</td>\n",
       "      <td>18</td>\n",
       "      <td>22</td>\n",
       "      <td>17450</td>\n",
       "    </tr>\n",
       "  </tbody>\n",
       "</table>\n",
       "</div>"
      ],
      "text/plain": [
       "  normalized-losses  wheel-base  length  width  height  curb-weight  bore  \\\n",
       "0                 ?        88.6   168.8   64.1    48.8         2548  3.47   \n",
       "1                 ?        88.6   168.8   64.1    48.8         2548  3.47   \n",
       "2                 ?        94.5   171.2   65.5    52.4         2823  2.68   \n",
       "3               164        99.8   176.6   66.2    54.3         2337  3.19   \n",
       "4               164        99.4   176.6   66.4    54.3         2824  3.19   \n",
       "\n",
       "  stroke  compression-rate horsepower peak-rpm  city-mpg  highway-mpg  price  \n",
       "0   2.68               9.0        111     5000        21           27  13495  \n",
       "1   2.68               9.0        111     5000        21           27  16500  \n",
       "2   3.47               9.0        154     5000        19           26  16500  \n",
       "3   3.40              10.0        102     5500        24           30  13950  \n",
       "4   3.40               8.0        115     5500        18           22  17450  "
      ]
     },
     "execution_count": 6,
     "metadata": {},
     "output_type": "execute_result"
    }
   ],
   "source": [
    "numeric_columns= ['normalized-losses', 'wheel-base', 'length', 'width', 'height', 'curb-weight', 'bore', 'stroke', 'compression-rate', 'horsepower', 'peak-rpm', 'city-mpg', 'highway-mpg', 'price']\n",
    "numeric_cars=cars[numeric_columns]\n",
    "numeric_cars.head()"
   ]
  },
  {
   "cell_type": "code",
   "execution_count": 7,
   "metadata": {},
   "outputs": [],
   "source": [
    "numeric_cars=numeric_cars.replace('?',np.nan)"
   ]
  },
  {
   "cell_type": "code",
   "execution_count": 8,
   "metadata": {},
   "outputs": [],
   "source": [
    "numeric_cars=numeric_cars.astype('float')"
   ]
  },
  {
   "cell_type": "code",
   "execution_count": 9,
   "metadata": {},
   "outputs": [
    {
     "data": {
      "text/plain": [
       "wheel-base            0\n",
       "length                0\n",
       "width                 0\n",
       "height                0\n",
       "curb-weight           0\n",
       "compression-rate      0\n",
       "city-mpg              0\n",
       "highway-mpg           0\n",
       "horsepower            2\n",
       "peak-rpm              2\n",
       "bore                  4\n",
       "stroke                4\n",
       "price                 4\n",
       "normalized-losses    41\n",
       "dtype: int64"
      ]
     },
     "execution_count": 9,
     "metadata": {},
     "output_type": "execute_result"
    }
   ],
   "source": [
    "numeric_cars.isnull().sum().sort_values()"
   ]
  },
  {
   "cell_type": "markdown",
   "metadata": {},
   "source": [
    "For the price column, we need it for prediction so since there are few missings we just drop null rows. For the rest of the columns we fill null values with the mean of corresponding column."
   ]
  },
  {
   "cell_type": "code",
   "execution_count": 10,
   "metadata": {},
   "outputs": [],
   "source": [
    "numeric_cars.dropna(subset=['price'],inplace=True)"
   ]
  },
  {
   "cell_type": "code",
   "execution_count": 11,
   "metadata": {},
   "outputs": [
    {
     "data": {
      "text/plain": [
       "normalized-losses    37\n",
       "wheel-base            0\n",
       "length                0\n",
       "width                 0\n",
       "height                0\n",
       "curb-weight           0\n",
       "bore                  4\n",
       "stroke                4\n",
       "compression-rate      0\n",
       "horsepower            2\n",
       "peak-rpm              2\n",
       "city-mpg              0\n",
       "highway-mpg           0\n",
       "price                 0\n",
       "dtype: int64"
      ]
     },
     "execution_count": 11,
     "metadata": {},
     "output_type": "execute_result"
    }
   ],
   "source": [
    "numeric_cars.isnull().sum()"
   ]
  },
  {
   "cell_type": "code",
   "execution_count": 12,
   "metadata": {},
   "outputs": [],
   "source": [
    "numeric_cars.fillna(numeric_cars.mean(),inplace=True)"
   ]
  },
  {
   "cell_type": "code",
   "execution_count": 13,
   "metadata": {},
   "outputs": [
    {
     "data": {
      "text/plain": [
       "normalized-losses    0\n",
       "wheel-base           0\n",
       "length               0\n",
       "width                0\n",
       "height               0\n",
       "curb-weight          0\n",
       "bore                 0\n",
       "stroke               0\n",
       "compression-rate     0\n",
       "horsepower           0\n",
       "peak-rpm             0\n",
       "city-mpg             0\n",
       "highway-mpg          0\n",
       "price                0\n",
       "dtype: int64"
      ]
     },
     "execution_count": 13,
     "metadata": {},
     "output_type": "execute_result"
    }
   ],
   "source": [
    "numeric_cars.isnull().sum()"
   ]
  },
  {
   "cell_type": "markdown",
   "metadata": {},
   "source": [
    "Normalizing all the values to range between 0 and 1 except the target price column"
   ]
  },
  {
   "cell_type": "code",
   "execution_count": 25,
   "metadata": {},
   "outputs": [],
   "source": [
    "sep_price=numeric_cars['price']\n",
    "numeric_cars=(numeric_cars-numeric_cars.min())/(numeric_cars.max()-numeric_cars.min())"
   ]
  },
  {
   "cell_type": "code",
   "execution_count": 29,
   "metadata": {},
   "outputs": [
    {
     "data": {
      "image/png": "[encoded data removed]",
      "text/plain": [
       "<Figure size 864x720 with 2 Axes>"
      ]
     },
     "metadata": {
      "needs_background": "light"
     },
     "output_type": "display_data"
    }
   ],
   "source": [
    "import seaborn as sns\n",
    "plt.figure(figsize=[12,10])\n",
    "sns.heatmap(numeric_cars.corr().abs(), annot=True);"
   ]
  },
  {
   "cell_type": "markdown",
   "metadata": {},
   "source": [
    "## Starting the KNN Univariate model for prediction"
   ]
  },
  {
   "cell_type": "code",
   "execution_count": 15,
   "metadata": {},
   "outputs": [
    {
     "data": {
      "text/plain": [
       "{'normalized-losses': {1: 0.19479545715577634,\n",
       "  3: 0.1862015245596294,\n",
       "  5: 0.1819720384646851,\n",
       "  7: 0.19255304071878562,\n",
       "  9: 0.19085686154836978},\n",
       " 'wheel-base': {1: 0.11155687574625128,\n",
       "  3: 0.12710792676789912,\n",
       "  5: 0.13558298986825523,\n",
       "  7: 0.13524916963860611,\n",
       "  9: 0.1424558285386106},\n",
       " 'length': {1: 0.11490133313180999,\n",
       "  3: 0.127348091481857,\n",
       "  5: 0.13473017627815678,\n",
       "  7: 0.1319057574313086,\n",
       "  9: 0.13363424146848335},\n",
       " 'width': {1: 0.11318348885234251,\n",
       "  3: 0.11435414557792316,\n",
       "  5: 0.11678870437675352,\n",
       "  7: 0.11348704250520464,\n",
       "  9: 0.11550851924104531},\n",
       " 'height': {1: 0.22104280960132835,\n",
       "  3: 0.20549152581911342,\n",
       "  5: 0.20218561746347616,\n",
       "  7: 0.19064589951824074,\n",
       "  9: 0.19390884422104737},\n",
       " 'curb-weight': {1: 0.13068592003274115,\n",
       "  3: 0.12467896360054696,\n",
       "  5: 0.109257689657741,\n",
       "  7: 0.10750727631244858,\n",
       "  9: 0.11499042933455146},\n",
       " 'bore': {1: 0.2135591203143007,\n",
       "  3: 0.17338363262700254,\n",
       "  5: 0.1683289753409954,\n",
       "  7: 0.17074867101736585,\n",
       "  9: 0.1704684102586369},\n",
       " 'stroke': {1: 0.22631686498701423,\n",
       "  3: 0.18218272851156694,\n",
       "  5: 0.19876196675058594,\n",
       "  7: 0.19373262987945802,\n",
       "  9: 0.1920350123151604},\n",
       " 'compression-rate': {1: 0.2007647422303533,\n",
       "  3: 0.18308583698868866,\n",
       "  5: 0.1641133050285271,\n",
       "  7: 0.167141683206929,\n",
       "  9: 0.17438273982084887},\n",
       " 'horsepower': {1: 0.10352154431353458,\n",
       "  3: 0.09981751807478624,\n",
       "  5: 0.10021939608643465,\n",
       "  7: 0.1080833091772289,\n",
       "  9: 0.1120881688451195},\n",
       " 'peak-rpm': {1: 0.23612233920237638,\n",
       "  3: 0.211944563327874,\n",
       "  5: 0.19108931275590788,\n",
       "  7: 0.18644293133616704,\n",
       "  9: 0.1822164078561988},\n",
       " 'city-mpg': {1: 0.1464957940110909,\n",
       "  3: 0.1153554046156386,\n",
       "  5: 0.1183263617767274,\n",
       "  7: 0.12989729988995868,\n",
       "  9: 0.13567373746406666},\n",
       " 'highway-mpg': {1: 0.14958529781839874,\n",
       "  3: 0.11462452261031114,\n",
       "  5: 0.11494034056372711,\n",
       "  7: 0.11906214786224484,\n",
       "  9: 0.1310351535910329}}"
      ]
     },
     "execution_count": 15,
     "metadata": {},
     "output_type": "execute_result"
    }
   ],
   "source": [
    "from sklearn.neighbors import KNeighborsRegressor\n",
    "from sklearn.metrics import mean_squared_error\n",
    "\n",
    "def knn_train_test(training_column,target_column,DF):\n",
    "    kvalues=[1,3,5,7,9]\n",
    "    np.random.seed(1)\n",
    "    shuffled=np.random.permutation(DF.index)\n",
    "    randomDF=DF.reindex(shuffled)\n",
    "    \n",
    "    #divide the dataset into training and testing sets\n",
    "    \n",
    "    last_tr=int(len(DF)/2)\n",
    "    training=randomDF.iloc[0:last_tr]\n",
    "    testing=randomDF.iloc[last_tr:]\n",
    "    \n",
    "    #train dataset for different number of neighbors for each feature\n",
    "    krmse={}\n",
    "    for items in kvalues:\n",
    "        knn=KNeighborsRegressor(n_neighbors=items)\n",
    "        knn.fit(training[[training_column]],training[target_column])\n",
    "    \n",
    "    # make prediction on the test dataset\n",
    "    \n",
    "        predicted_value=knn.predict(testing[[training_column]])\n",
    "    \n",
    "    #calculate the RMSE of the prediction\n",
    "    \n",
    "        mse=mean_squared_error(testing[target_column],predicted_value)\n",
    "        krmse[items]=np.sqrt(mse)\n",
    "    \n",
    "    return(krmse)\n",
    "\n",
    "rmsvalues={}\n",
    "trainingcols=numeric_cars.columns.drop('price')\n",
    "for cols in trainingcols:\n",
    "    col_rmse=knn_train_test(cols,'price',numeric_cars)\n",
    "    rmsvalues[cols]=col_rmse\n",
    "rmsvalues    \n",
    "\n",
    "    "
   ]
  },
  {
   "cell_type": "markdown",
   "metadata": {},
   "source": [
    "### Visualizing the results of training based on different features and different values for the hyperparameter : neighbors"
   ]
  },
  {
   "cell_type": "code",
   "execution_count": 16,
   "metadata": {},
   "outputs": [
    {
     "data": {
      "image/png": "[encoded data removed]",
      "text/plain": [
       "<Figure size 432x288 with 1 Axes>"
      ]
     },
     "metadata": {
      "needs_background": "light"
     },
     "output_type": "display_data"
    }
   ],
   "source": [
    "import matplotlib.pyplot as plt\n",
    "%matplotlib inline\n",
    "\n",
    "for k,v in rmsvalues.items():\n",
    "    x = list(v.keys())\n",
    "    y = list(v.values())\n",
    "    tempdf=pd.DataFrame()\n",
    "    tempdf['k']=x\n",
    "    tempdf['error']=y\n",
    "    tempdf=tempdf.sort_values('k')\n",
    "    x=tempdf['k']\n",
    "    y=tempdf['error']\n",
    "    plt.plot(x,y)\n",
    "    plt.xlabel('k value')\n",
    "    plt.ylabel('RMSE')\n"
   ]
  },
  {
   "cell_type": "markdown",
   "metadata": {
    "collapsed": true
   },
   "source": [
    "## KNN Multivariate model"
   ]
  },
  {
   "cell_type": "code",
   "execution_count": 17,
   "metadata": {},
   "outputs": [],
   "source": [
    "def knn_train_test(training_columns,target_column,DF):\n",
    "    np.random.seed(1)\n",
    "    shuffled=np.random.permutation(DF.index)\n",
    "    randomDF=DF.reindex(shuffled)\n",
    "    \n",
    "    #divide the dataset into training and testing sets\n",
    "    \n",
    "    last_tr=int(len(DF)/2)\n",
    "    training=randomDF.iloc[0:last_tr]\n",
    "    testing=randomDF.iloc[last_tr:]\n",
    "    \n",
    "    #train dataset for different number of neighbors for each feature\n",
    "    knn=KNeighborsRegressor()\n",
    "    knn.fit(training[training_columns],training[target_column])\n",
    "    \n",
    "    # make prediction on the test dataset\n",
    "    \n",
    "    predicted_value=knn.predict(testing[training_columns])\n",
    "    \n",
    "    #calculate the RMSE of the prediction\n",
    "    \n",
    "    mse=mean_squared_error(testing[target_column],predicted_value)\n",
    "    krmse=np.sqrt(mse)\n",
    "    \n",
    "    return(krmse)\n"
   ]
  },
  {
   "cell_type": "markdown",
   "metadata": {},
   "source": [
    "Now we sort the RMSE values of different features, predict based on different combinations and compare accuracy of predictions."
   ]
  },
  {
   "cell_type": "markdown",
   "metadata": {},
   "source": [
    "### Average rmse for each feature across all Ks"
   ]
  },
  {
   "cell_type": "code",
   "execution_count": 18,
   "metadata": {},
   "outputs": [
    {
     "data": {
      "text/plain": [
       "horsepower           0.104746\n",
       "width                0.114664\n",
       "curb-weight          0.117424\n",
       "highway-mpg          0.125849\n",
       "length               0.128504\n",
       "city-mpg             0.129150\n",
       "wheel-base           0.130391\n",
       "compression-rate     0.177898\n",
       "bore                 0.179298\n",
       "normalized-losses    0.189276\n",
       "stroke               0.198606\n",
       "peak-rpm             0.201563\n",
       "height               0.202655\n",
       "dtype: float64"
      ]
     },
     "execution_count": 18,
     "metadata": {},
     "output_type": "execute_result"
    }
   ],
   "source": [
    "sorted_rmse = {}\n",
    "for k,v in rmsvalues.items():\n",
    "    avg = np.mean(list(v.values()))\n",
    "    sorted_rmse[k] = avg\n",
    "seriesrmse = pd.Series(sorted_rmse)\n",
    "seriesrmse.sort_values()"
   ]
  },
  {
   "cell_type": "code",
   "execution_count": 19,
   "metadata": {},
   "outputs": [
    {
     "data": {
      "text/plain": [
       "best_three    0.082070\n",
       "best_five     0.087996\n",
       "best_two      0.089105\n",
       "best_four     0.090666\n",
       "all           0.103368\n",
       "dtype: float64"
      ]
     },
     "execution_count": 19,
     "metadata": {},
     "output_type": "execute_result"
    }
   ],
   "source": [
    "#predict based on all the features\n",
    "rmsefeatures={}\n",
    "\n",
    "allcols=numeric_cars.columns.drop('price')\n",
    "all_rmse=knn_train_test(allcols,'price',numeric_cars)\n",
    "rmsefeatures['all']=all_rmse\n",
    "\n",
    "#predict based on the two most relevent features\n",
    "\n",
    "twobest=['horsepower','width']\n",
    "two_rmse=knn_train_test(twobest,'price',numeric_cars)\n",
    "rmsefeatures['best_two']=two_rmse\n",
    "\n",
    "\n",
    "#predict based on the three most relevent features\n",
    "\n",
    "threebest=['horsepower','width','curb-weight']\n",
    "three_rmse=knn_train_test(threebest,'price',numeric_cars)\n",
    "rmsefeatures['best_three']=three_rmse\n",
    "\n",
    "\n",
    "#predict based on the four most relevent features\n",
    "\n",
    "fourbest=['horsepower','width','curb-weight','length']\n",
    "four_rmse=knn_train_test(fourbest,'price',numeric_cars)\n",
    "rmsefeatures['best_four']=four_rmse\n",
    "\n",
    "#predict based on the five most relevent features\n",
    "\n",
    "fivebest=['horsepower','width','curb-weight','length','city-mpg']\n",
    "five_rmse=knn_train_test(fivebest,'price',numeric_cars)\n",
    "rmsefeatures['best_five']=five_rmse\n",
    "\n",
    "rmsefeatures_series=pd.Series(rmsefeatures)\n",
    "rmsefeatures_series=rmsefeatures_series.sort_values()\n",
    "rmsefeatures_series"
   ]
  },
  {
   "cell_type": "markdown",
   "metadata": {},
   "source": [
    "## Multivariate features as well as the Neighbors"
   ]
  },
  {
   "cell_type": "code",
   "execution_count": 20,
   "metadata": {},
   "outputs": [],
   "source": [
    "def knn_train_test(training_column,target_column,DF):\n",
    "    kvalues=[i for i in range(1,25)]\n",
    "    np.random.seed(1)\n",
    "    shuffled=np.random.permutation(DF.index)\n",
    "    randomDF=DF.reindex(shuffled)\n",
    "    \n",
    "    #divide the dataset into training and testing sets\n",
    "    \n",
    "    last_tr=int(len(DF)/2)\n",
    "    training=randomDF.iloc[0:last_tr]\n",
    "    testing=randomDF.iloc[last_tr:]\n",
    "    \n",
    "    #train dataset for different number of neighbors for each feature\n",
    "    krmse={}\n",
    "    for items in kvalues:\n",
    "        knn=KNeighborsRegressor(n_neighbors=items)\n",
    "        knn.fit(training[training_column],training[target_column])\n",
    "    \n",
    "    # make prediction on the test dataset\n",
    "    \n",
    "        predicted_value=knn.predict(testing[training_column])\n",
    "    \n",
    "    #calculate the RMSE of the prediction\n",
    "    \n",
    "        mse=mean_squared_error(testing[target_column],predicted_value)\n",
    "        krmse[items]=np.sqrt(mse)\n",
    "    \n",
    "    return(krmse)"
   ]
  },
  {
   "cell_type": "code",
   "execution_count": 21,
   "metadata": {},
   "outputs": [
    {
     "data": {
      "text/plain": [
       "{'best_two': {1: 0.10083812385259944,\n",
       "  2: 0.08682536522494365,\n",
       "  3: 0.08447617456070232,\n",
       "  4: 0.08904732684165861,\n",
       "  5: 0.08910464381627849,\n",
       "  6: 0.09135750412331806,\n",
       "  7: 0.09326567608536965,\n",
       "  8: 0.09775508709259847,\n",
       "  9: 0.10124493798644581,\n",
       "  10: 0.10336697219126981,\n",
       "  11: 0.1066763309404012,\n",
       "  12: 0.10850387318754108,\n",
       "  13: 0.11172389724167753,\n",
       "  14: 0.11429811597454889,\n",
       "  15: 0.11407936788394846,\n",
       "  16: 0.11432981654113557,\n",
       "  17: 0.11447506538497647,\n",
       "  18: 0.11416717602952114,\n",
       "  19: 0.11369755453965684,\n",
       "  20: 0.11553465184728628,\n",
       "  21: 0.11814398638084585,\n",
       "  22: 0.11935370511200559,\n",
       "  23: 0.12078151251501873,\n",
       "  24: 0.12190843972600138},\n",
       " 'best_three': {1: 0.07479794941969584,\n",
       "  2: 0.06983977880507417,\n",
       "  3: 0.0787345535097233,\n",
       "  4: 0.07900088728956343,\n",
       "  5: 0.08206991062501781,\n",
       "  6: 0.08744617568393764,\n",
       "  7: 0.09369885332047591,\n",
       "  8: 0.0987778442982254,\n",
       "  9: 0.0991242659398461,\n",
       "  10: 0.10119254623356101,\n",
       "  11: 0.10318227325186949,\n",
       "  12: 0.10429241680799066,\n",
       "  13: 0.10683746508647161,\n",
       "  14: 0.10822931574871408,\n",
       "  15: 0.10852914709728584,\n",
       "  16: 0.10909301065399982,\n",
       "  17: 0.11197060002128512,\n",
       "  18: 0.11380544565477102,\n",
       "  19: 0.1151041707157199,\n",
       "  20: 0.11579528940635546,\n",
       "  21: 0.11727562279500207,\n",
       "  22: 0.11798161670480395,\n",
       "  23: 0.11937598208758501,\n",
       "  24: 0.12062323794790743},\n",
       " 'best_five': {1: 0.06588644778022677,\n",
       "  2: 0.07040885522916962,\n",
       "  3: 0.07680746944684237,\n",
       "  4: 0.08281854431442078,\n",
       "  5: 0.08799571545916576,\n",
       "  6: 0.08770230477795926,\n",
       "  7: 0.0926296527060942,\n",
       "  8: 0.09696817941761186,\n",
       "  9: 0.10055022538076622,\n",
       "  10: 0.102746738702794,\n",
       "  11: 0.10472576526566664,\n",
       "  12: 0.10599652652085487,\n",
       "  13: 0.10735891305882014,\n",
       "  14: 0.10876834159039464,\n",
       "  15: 0.11031758213855233,\n",
       "  16: 0.11138414381066847,\n",
       "  17: 0.11201849557623356,\n",
       "  18: 0.1142617889456056,\n",
       "  19: 0.11564079707943885,\n",
       "  20: 0.11718170110570261,\n",
       "  21: 0.11866760450214059,\n",
       "  22: 0.1197561912488624,\n",
       "  23: 0.12126445550272798,\n",
       "  24: 0.12273527890441416}}"
      ]
     },
     "execution_count": 21,
     "metadata": {},
     "output_type": "execute_result"
    }
   ],
   "source": [
    "multik={}\n",
    "twobest=['horsepower','width']\n",
    "two_rmsek=knn_train_test(twobest,'price',numeric_cars)\n",
    "multik['best_two']=two_rmsek\n",
    "\n",
    "threebest=['horsepower','width','curb-weight']\n",
    "three_rmsek=knn_train_test(threebest,'price',numeric_cars)\n",
    "multik['best_three']=three_rmsek\n",
    "\n",
    "fivebest=['horsepower','width','curb-weight','length','city-mpg']\n",
    "five_rmsek=knn_train_test(fivebest,'price',numeric_cars)\n",
    "multik['best_five']=five_rmsek\n",
    "\n",
    "multik"
   ]
  },
  {
   "cell_type": "markdown",
   "metadata": {},
   "source": [
    "### visualizing the results for the combination of various training features and hyperparameter: K"
   ]
  },
  {
   "cell_type": "code",
   "execution_count": 22,
   "metadata": {},
   "outputs": [
    {
     "data": {
      "image/png": "[encoded data removed]",
      "text/plain": [
       "<Figure size 432x288 with 1 Axes>"
      ]
     },
     "metadata": {
      "needs_background": "light"
     },
     "output_type": "display_data"
    }
   ],
   "source": [
    "for k,v in multik.items():\n",
    "    x = list(v.keys())\n",
    "    y = list(v.values())\n",
    "    tempdf=pd.DataFrame()\n",
    "    tempdf['k']=x\n",
    "    tempdf['error']=y\n",
    "    tempdf=tempdf.sort_values('k')\n",
    "    x=tempdf['k']\n",
    "    y=tempdf['error']\n",
    "    plt.plot(x,y,label=k)\n",
    "    plt.xlabel('k value')\n",
    "    plt.ylabel('RMSE')\n",
    "    plt.legend(loc='lower right')"
   ]
  },
  {
   "cell_type": "markdown",
   "metadata": {},
   "source": [
    "The results confirm that as we increase the training features we are increasing the variance while with using two features we are increasing bias. For the two features case the optimum K is around 4 while it is lower for the other two cases. It is better to use the best_three features to predict because of the following reasons:\n",
    "\n",
    "- For big sets of data we need to reduce the calculations and therefore three is more optimizied than 5.\n",
    "\n",
    "-  Five is having the variance effect and two has the bias effect.\n",
    "\n",
    "-  With using around three neighbors we get as good results as five neighbors for this case which is not a big K.\n"
   ]
  },
  {
   "cell_type": "code",
   "execution_count": null,
   "metadata": {},
   "outputs": [],
   "source": []
  }
 ],
 "metadata": {
  "kernelspec": {
   "display_name": "Python 3",
   "language": "python",
   "name": "python3"
  },
  "language_info": {
   "codemirror_mode": {
    "name": "ipython",
    "version": 3
   },
   "file_extension": ".py",
   "mimetype": "text/x-python",
   "name": "python",
   "nbconvert_exporter": "python",
   "pygments_lexer": "ipython3",
   "version": "3.6.8"
  }
 },
 "nbformat": 4,
 "nbformat_minor": 2
}
